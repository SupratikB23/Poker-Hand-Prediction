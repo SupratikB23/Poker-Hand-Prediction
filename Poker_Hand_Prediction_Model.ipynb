{
 "cells": [
  {
   "cell_type": "markdown",
   "id": "edcc4d14",
   "metadata": {
    "papermill": {
     "duration": 0.005039,
     "end_time": "2025-01-13T19:48:37.454928",
     "exception": false,
     "start_time": "2025-01-13T19:48:37.449889",
     "status": "completed"
    },
    "tags": []
   },
   "source": [
    "## Import necessary libraries"
   ]
  },
  {
   "cell_type": "code",
   "execution_count": 1,
   "id": "87196472",
   "metadata": {
    "_cell_guid": "b1076dfc-b9ad-4769-8c92-a6c4dae69d19",
    "_uuid": "8f2839f25d086af736a60e9eeb907d3b93b6e0e5",
    "execution": {
     "iopub.execute_input": "2025-01-13T19:48:37.464962Z",
     "iopub.status.busy": "2025-01-13T19:48:37.464634Z",
     "iopub.status.idle": "2025-01-13T19:48:40.330686Z",
     "shell.execute_reply": "2025-01-13T19:48:40.329739Z"
    },
    "papermill": {
     "duration": 2.87324,
     "end_time": "2025-01-13T19:48:40.332686",
     "exception": false,
     "start_time": "2025-01-13T19:48:37.459446",
     "status": "completed"
    },
    "tags": []
   },
   "outputs": [],
   "source": [
    "from sklearn.preprocessing import StandardScaler\n",
    "from sklearn.model_selection import train_test_split, GridSearchCV\n",
    "from sklearn.metrics import classification_report, accuracy_score, roc_curve, auc\n",
    "from sklearn.ensemble import RandomForestClassifier, GradientBoostingClassifier, StackingClassifier\n",
    "from sklearn.neural_network import MLPClassifier\n",
    "from imblearn.over_sampling import SMOTE\n",
    "import numpy as np\n",
    "import pandas as pd\n",
    "import matplotlib.pyplot as plt\n",
    "import seaborn as sns"
   ]
  },
  {
   "cell_type": "markdown",
   "id": "12f954cd",
   "metadata": {
    "papermill": {
     "duration": 0.004645,
     "end_time": "2025-01-13T19:48:40.342728",
     "exception": false,
     "start_time": "2025-01-13T19:48:40.338083",
     "status": "completed"
    },
    "tags": []
   },
   "source": [
    "## Load the datasets"
   ]
  },
  {
   "cell_type": "code",
   "execution_count": 2,
   "id": "9ef28877",
   "metadata": {
    "execution": {
     "iopub.execute_input": "2025-01-13T19:48:40.352829Z",
     "iopub.status.busy": "2025-01-13T19:48:40.352341Z",
     "iopub.status.idle": "2025-01-13T19:48:40.356563Z",
     "shell.execute_reply": "2025-01-13T19:48:40.355548Z"
    },
    "papermill": {
     "duration": 0.010998,
     "end_time": "2025-01-13T19:48:40.358109",
     "exception": false,
     "start_time": "2025-01-13T19:48:40.347111",
     "status": "completed"
    },
    "tags": []
   },
   "outputs": [],
   "source": [
    "train_file = '/kaggle/input/poker-hand-dataset/poker-hand-training.data'\n",
    "test_file = '/kaggle/input/poker-hand-dataset/poker-hand-testing.data'"
   ]
  },
  {
   "cell_type": "markdown",
   "id": "9f3aba45",
   "metadata": {
    "papermill": {
     "duration": 0.003949,
     "end_time": "2025-01-13T19:48:40.366568",
     "exception": false,
     "start_time": "2025-01-13T19:48:40.362619",
     "status": "completed"
    },
    "tags": []
   },
   "source": [
    "### Data Cleaning Process"
   ]
  },
  {
   "cell_type": "code",
   "execution_count": 3,
   "id": "4b5ad677",
   "metadata": {
    "execution": {
     "iopub.execute_input": "2025-01-13T19:48:40.376186Z",
     "iopub.status.busy": "2025-01-13T19:48:40.375783Z",
     "iopub.status.idle": "2025-01-13T19:48:40.380509Z",
     "shell.execute_reply": "2025-01-13T19:48:40.379480Z"
    },
    "papermill": {
     "duration": 0.011339,
     "end_time": "2025-01-13T19:48:40.382089",
     "exception": false,
     "start_time": "2025-01-13T19:48:40.370750",
     "status": "completed"
    },
    "tags": []
   },
   "outputs": [],
   "source": [
    "columns = ['first_suit', 'first_rank', 'second_suit', 'second_rank', 'third_suit', 'third_rank',\n",
    "           'fourth_suit', 'fourth_rank', 'fifth_suit', 'fifth_rank', 'hand']\n",
    "\n",
    "hand_mapping = {\n",
    "    0: 'zilch',\n",
    "    1: 'one_pair',\n",
    "    2: 'two_pair',\n",
    "    3: 'three_of_a_kind',\n",
    "    4: 'straight',\n",
    "    5: 'flush',\n",
    "    6: 'full_house',\n",
    "    7: 'four_of_a_kind',\n",
    "    8: 'straight_flush',\n",
    "    9: 'royal_flush'\n",
    "}"
   ]
  },
  {
   "cell_type": "code",
   "execution_count": 4,
   "id": "46eadd7f",
   "metadata": {
    "execution": {
     "iopub.execute_input": "2025-01-13T19:48:40.392213Z",
     "iopub.status.busy": "2025-01-13T19:48:40.391824Z",
     "iopub.status.idle": "2025-01-13T19:48:41.338396Z",
     "shell.execute_reply": "2025-01-13T19:48:41.337307Z"
    },
    "papermill": {
     "duration": 0.953664,
     "end_time": "2025-01-13T19:48:41.340276",
     "exception": false,
     "start_time": "2025-01-13T19:48:40.386612",
     "status": "completed"
    },
    "tags": []
   },
   "outputs": [],
   "source": [
    "train_data = pd.read_csv(train_file, header=None, names=columns)\n",
    "test_data = pd.read_csv(test_file, header=None, names=columns)"
   ]
  },
  {
   "cell_type": "code",
   "execution_count": 5,
   "id": "8815bb9d",
   "metadata": {
    "execution": {
     "iopub.execute_input": "2025-01-13T19:48:41.350546Z",
     "iopub.status.busy": "2025-01-13T19:48:41.350056Z",
     "iopub.status.idle": "2025-01-13T19:48:41.372956Z",
     "shell.execute_reply": "2025-01-13T19:48:41.371780Z"
    },
    "papermill": {
     "duration": 0.029899,
     "end_time": "2025-01-13T19:48:41.374750",
     "exception": false,
     "start_time": "2025-01-13T19:48:41.344851",
     "status": "completed"
    },
    "tags": []
   },
   "outputs": [
    {
     "data": {
      "text/html": [
       "<div>\n",
       "<style scoped>\n",
       "    .dataframe tbody tr th:only-of-type {\n",
       "        vertical-align: middle;\n",
       "    }\n",
       "\n",
       "    .dataframe tbody tr th {\n",
       "        vertical-align: top;\n",
       "    }\n",
       "\n",
       "    .dataframe thead th {\n",
       "        text-align: right;\n",
       "    }\n",
       "</style>\n",
       "<table border=\"1\" class=\"dataframe\">\n",
       "  <thead>\n",
       "    <tr style=\"text-align: right;\">\n",
       "      <th></th>\n",
       "      <th>first_suit</th>\n",
       "      <th>first_rank</th>\n",
       "      <th>second_suit</th>\n",
       "      <th>second_rank</th>\n",
       "      <th>third_suit</th>\n",
       "      <th>third_rank</th>\n",
       "      <th>fourth_suit</th>\n",
       "      <th>fourth_rank</th>\n",
       "      <th>fifth_suit</th>\n",
       "      <th>fifth_rank</th>\n",
       "      <th>hand</th>\n",
       "    </tr>\n",
       "  </thead>\n",
       "  <tbody>\n",
       "    <tr>\n",
       "      <th>0</th>\n",
       "      <td>1</td>\n",
       "      <td>10</td>\n",
       "      <td>1</td>\n",
       "      <td>11</td>\n",
       "      <td>1</td>\n",
       "      <td>13</td>\n",
       "      <td>1</td>\n",
       "      <td>12</td>\n",
       "      <td>1</td>\n",
       "      <td>1</td>\n",
       "      <td>9</td>\n",
       "    </tr>\n",
       "    <tr>\n",
       "      <th>1</th>\n",
       "      <td>2</td>\n",
       "      <td>11</td>\n",
       "      <td>2</td>\n",
       "      <td>13</td>\n",
       "      <td>2</td>\n",
       "      <td>10</td>\n",
       "      <td>2</td>\n",
       "      <td>12</td>\n",
       "      <td>2</td>\n",
       "      <td>1</td>\n",
       "      <td>9</td>\n",
       "    </tr>\n",
       "    <tr>\n",
       "      <th>2</th>\n",
       "      <td>3</td>\n",
       "      <td>12</td>\n",
       "      <td>3</td>\n",
       "      <td>11</td>\n",
       "      <td>3</td>\n",
       "      <td>13</td>\n",
       "      <td>3</td>\n",
       "      <td>10</td>\n",
       "      <td>3</td>\n",
       "      <td>1</td>\n",
       "      <td>9</td>\n",
       "    </tr>\n",
       "    <tr>\n",
       "      <th>3</th>\n",
       "      <td>4</td>\n",
       "      <td>10</td>\n",
       "      <td>4</td>\n",
       "      <td>11</td>\n",
       "      <td>4</td>\n",
       "      <td>1</td>\n",
       "      <td>4</td>\n",
       "      <td>13</td>\n",
       "      <td>4</td>\n",
       "      <td>12</td>\n",
       "      <td>9</td>\n",
       "    </tr>\n",
       "    <tr>\n",
       "      <th>4</th>\n",
       "      <td>4</td>\n",
       "      <td>1</td>\n",
       "      <td>4</td>\n",
       "      <td>13</td>\n",
       "      <td>4</td>\n",
       "      <td>12</td>\n",
       "      <td>4</td>\n",
       "      <td>11</td>\n",
       "      <td>4</td>\n",
       "      <td>10</td>\n",
       "      <td>9</td>\n",
       "    </tr>\n",
       "    <tr>\n",
       "      <th>...</th>\n",
       "      <td>...</td>\n",
       "      <td>...</td>\n",
       "      <td>...</td>\n",
       "      <td>...</td>\n",
       "      <td>...</td>\n",
       "      <td>...</td>\n",
       "      <td>...</td>\n",
       "      <td>...</td>\n",
       "      <td>...</td>\n",
       "      <td>...</td>\n",
       "      <td>...</td>\n",
       "    </tr>\n",
       "    <tr>\n",
       "      <th>25005</th>\n",
       "      <td>3</td>\n",
       "      <td>9</td>\n",
       "      <td>2</td>\n",
       "      <td>6</td>\n",
       "      <td>4</td>\n",
       "      <td>11</td>\n",
       "      <td>4</td>\n",
       "      <td>12</td>\n",
       "      <td>2</td>\n",
       "      <td>4</td>\n",
       "      <td>0</td>\n",
       "    </tr>\n",
       "    <tr>\n",
       "      <th>25006</th>\n",
       "      <td>4</td>\n",
       "      <td>1</td>\n",
       "      <td>4</td>\n",
       "      <td>10</td>\n",
       "      <td>3</td>\n",
       "      <td>13</td>\n",
       "      <td>3</td>\n",
       "      <td>4</td>\n",
       "      <td>1</td>\n",
       "      <td>10</td>\n",
       "      <td>1</td>\n",
       "    </tr>\n",
       "    <tr>\n",
       "      <th>25007</th>\n",
       "      <td>2</td>\n",
       "      <td>1</td>\n",
       "      <td>2</td>\n",
       "      <td>10</td>\n",
       "      <td>4</td>\n",
       "      <td>4</td>\n",
       "      <td>4</td>\n",
       "      <td>1</td>\n",
       "      <td>4</td>\n",
       "      <td>13</td>\n",
       "      <td>1</td>\n",
       "    </tr>\n",
       "    <tr>\n",
       "      <th>25008</th>\n",
       "      <td>2</td>\n",
       "      <td>12</td>\n",
       "      <td>4</td>\n",
       "      <td>3</td>\n",
       "      <td>1</td>\n",
       "      <td>10</td>\n",
       "      <td>1</td>\n",
       "      <td>12</td>\n",
       "      <td>4</td>\n",
       "      <td>9</td>\n",
       "      <td>1</td>\n",
       "    </tr>\n",
       "    <tr>\n",
       "      <th>25009</th>\n",
       "      <td>1</td>\n",
       "      <td>7</td>\n",
       "      <td>3</td>\n",
       "      <td>11</td>\n",
       "      <td>3</td>\n",
       "      <td>3</td>\n",
       "      <td>4</td>\n",
       "      <td>8</td>\n",
       "      <td>3</td>\n",
       "      <td>7</td>\n",
       "      <td>1</td>\n",
       "    </tr>\n",
       "  </tbody>\n",
       "</table>\n",
       "<p>25010 rows × 11 columns</p>\n",
       "</div>"
      ],
      "text/plain": [
       "       first_suit  first_rank  second_suit  second_rank  third_suit  \\\n",
       "0               1          10            1           11           1   \n",
       "1               2          11            2           13           2   \n",
       "2               3          12            3           11           3   \n",
       "3               4          10            4           11           4   \n",
       "4               4           1            4           13           4   \n",
       "...           ...         ...          ...          ...         ...   \n",
       "25005           3           9            2            6           4   \n",
       "25006           4           1            4           10           3   \n",
       "25007           2           1            2           10           4   \n",
       "25008           2          12            4            3           1   \n",
       "25009           1           7            3           11           3   \n",
       "\n",
       "       third_rank  fourth_suit  fourth_rank  fifth_suit  fifth_rank  hand  \n",
       "0              13            1           12           1           1     9  \n",
       "1              10            2           12           2           1     9  \n",
       "2              13            3           10           3           1     9  \n",
       "3               1            4           13           4          12     9  \n",
       "4              12            4           11           4          10     9  \n",
       "...           ...          ...          ...         ...         ...   ...  \n",
       "25005          11            4           12           2           4     0  \n",
       "25006          13            3            4           1          10     1  \n",
       "25007           4            4            1           4          13     1  \n",
       "25008          10            1           12           4           9     1  \n",
       "25009           3            4            8           3           7     1  \n",
       "\n",
       "[25010 rows x 11 columns]"
      ]
     },
     "execution_count": 5,
     "metadata": {},
     "output_type": "execute_result"
    }
   ],
   "source": [
    "train_data"
   ]
  },
  {
   "cell_type": "code",
   "execution_count": 6,
   "id": "7a1bfa78",
   "metadata": {
    "execution": {
     "iopub.execute_input": "2025-01-13T19:48:41.385668Z",
     "iopub.status.busy": "2025-01-13T19:48:41.385337Z",
     "iopub.status.idle": "2025-01-13T19:48:41.398651Z",
     "shell.execute_reply": "2025-01-13T19:48:41.397518Z"
    },
    "papermill": {
     "duration": 0.020614,
     "end_time": "2025-01-13T19:48:41.400349",
     "exception": false,
     "start_time": "2025-01-13T19:48:41.379735",
     "status": "completed"
    },
    "tags": []
   },
   "outputs": [
    {
     "data": {
      "text/html": [
       "<div>\n",
       "<style scoped>\n",
       "    .dataframe tbody tr th:only-of-type {\n",
       "        vertical-align: middle;\n",
       "    }\n",
       "\n",
       "    .dataframe tbody tr th {\n",
       "        vertical-align: top;\n",
       "    }\n",
       "\n",
       "    .dataframe thead th {\n",
       "        text-align: right;\n",
       "    }\n",
       "</style>\n",
       "<table border=\"1\" class=\"dataframe\">\n",
       "  <thead>\n",
       "    <tr style=\"text-align: right;\">\n",
       "      <th></th>\n",
       "      <th>first_suit</th>\n",
       "      <th>first_rank</th>\n",
       "      <th>second_suit</th>\n",
       "      <th>second_rank</th>\n",
       "      <th>third_suit</th>\n",
       "      <th>third_rank</th>\n",
       "      <th>fourth_suit</th>\n",
       "      <th>fourth_rank</th>\n",
       "      <th>fifth_suit</th>\n",
       "      <th>fifth_rank</th>\n",
       "      <th>hand</th>\n",
       "    </tr>\n",
       "  </thead>\n",
       "  <tbody>\n",
       "    <tr>\n",
       "      <th>0</th>\n",
       "      <td>1</td>\n",
       "      <td>1</td>\n",
       "      <td>1</td>\n",
       "      <td>13</td>\n",
       "      <td>2</td>\n",
       "      <td>4</td>\n",
       "      <td>2</td>\n",
       "      <td>3</td>\n",
       "      <td>1</td>\n",
       "      <td>12</td>\n",
       "      <td>0</td>\n",
       "    </tr>\n",
       "    <tr>\n",
       "      <th>1</th>\n",
       "      <td>3</td>\n",
       "      <td>12</td>\n",
       "      <td>3</td>\n",
       "      <td>2</td>\n",
       "      <td>3</td>\n",
       "      <td>11</td>\n",
       "      <td>4</td>\n",
       "      <td>5</td>\n",
       "      <td>2</td>\n",
       "      <td>5</td>\n",
       "      <td>1</td>\n",
       "    </tr>\n",
       "    <tr>\n",
       "      <th>2</th>\n",
       "      <td>1</td>\n",
       "      <td>9</td>\n",
       "      <td>4</td>\n",
       "      <td>6</td>\n",
       "      <td>1</td>\n",
       "      <td>4</td>\n",
       "      <td>3</td>\n",
       "      <td>2</td>\n",
       "      <td>3</td>\n",
       "      <td>9</td>\n",
       "      <td>1</td>\n",
       "    </tr>\n",
       "    <tr>\n",
       "      <th>3</th>\n",
       "      <td>1</td>\n",
       "      <td>4</td>\n",
       "      <td>3</td>\n",
       "      <td>13</td>\n",
       "      <td>2</td>\n",
       "      <td>13</td>\n",
       "      <td>2</td>\n",
       "      <td>1</td>\n",
       "      <td>3</td>\n",
       "      <td>6</td>\n",
       "      <td>1</td>\n",
       "    </tr>\n",
       "    <tr>\n",
       "      <th>4</th>\n",
       "      <td>3</td>\n",
       "      <td>10</td>\n",
       "      <td>2</td>\n",
       "      <td>7</td>\n",
       "      <td>1</td>\n",
       "      <td>2</td>\n",
       "      <td>2</td>\n",
       "      <td>11</td>\n",
       "      <td>4</td>\n",
       "      <td>9</td>\n",
       "      <td>0</td>\n",
       "    </tr>\n",
       "    <tr>\n",
       "      <th>...</th>\n",
       "      <td>...</td>\n",
       "      <td>...</td>\n",
       "      <td>...</td>\n",
       "      <td>...</td>\n",
       "      <td>...</td>\n",
       "      <td>...</td>\n",
       "      <td>...</td>\n",
       "      <td>...</td>\n",
       "      <td>...</td>\n",
       "      <td>...</td>\n",
       "      <td>...</td>\n",
       "    </tr>\n",
       "    <tr>\n",
       "      <th>999995</th>\n",
       "      <td>3</td>\n",
       "      <td>1</td>\n",
       "      <td>1</td>\n",
       "      <td>12</td>\n",
       "      <td>2</td>\n",
       "      <td>9</td>\n",
       "      <td>4</td>\n",
       "      <td>9</td>\n",
       "      <td>2</td>\n",
       "      <td>6</td>\n",
       "      <td>1</td>\n",
       "    </tr>\n",
       "    <tr>\n",
       "      <th>999996</th>\n",
       "      <td>3</td>\n",
       "      <td>3</td>\n",
       "      <td>4</td>\n",
       "      <td>5</td>\n",
       "      <td>2</td>\n",
       "      <td>7</td>\n",
       "      <td>1</td>\n",
       "      <td>4</td>\n",
       "      <td>4</td>\n",
       "      <td>3</td>\n",
       "      <td>1</td>\n",
       "    </tr>\n",
       "    <tr>\n",
       "      <th>999997</th>\n",
       "      <td>1</td>\n",
       "      <td>11</td>\n",
       "      <td>4</td>\n",
       "      <td>7</td>\n",
       "      <td>3</td>\n",
       "      <td>9</td>\n",
       "      <td>1</td>\n",
       "      <td>13</td>\n",
       "      <td>2</td>\n",
       "      <td>7</td>\n",
       "      <td>1</td>\n",
       "    </tr>\n",
       "    <tr>\n",
       "      <th>999998</th>\n",
       "      <td>3</td>\n",
       "      <td>11</td>\n",
       "      <td>1</td>\n",
       "      <td>8</td>\n",
       "      <td>1</td>\n",
       "      <td>1</td>\n",
       "      <td>3</td>\n",
       "      <td>13</td>\n",
       "      <td>2</td>\n",
       "      <td>8</td>\n",
       "      <td>1</td>\n",
       "    </tr>\n",
       "    <tr>\n",
       "      <th>999999</th>\n",
       "      <td>2</td>\n",
       "      <td>5</td>\n",
       "      <td>2</td>\n",
       "      <td>9</td>\n",
       "      <td>4</td>\n",
       "      <td>9</td>\n",
       "      <td>2</td>\n",
       "      <td>3</td>\n",
       "      <td>3</td>\n",
       "      <td>3</td>\n",
       "      <td>2</td>\n",
       "    </tr>\n",
       "  </tbody>\n",
       "</table>\n",
       "<p>1000000 rows × 11 columns</p>\n",
       "</div>"
      ],
      "text/plain": [
       "        first_suit  first_rank  second_suit  second_rank  third_suit  \\\n",
       "0                1           1            1           13           2   \n",
       "1                3          12            3            2           3   \n",
       "2                1           9            4            6           1   \n",
       "3                1           4            3           13           2   \n",
       "4                3          10            2            7           1   \n",
       "...            ...         ...          ...          ...         ...   \n",
       "999995           3           1            1           12           2   \n",
       "999996           3           3            4            5           2   \n",
       "999997           1          11            4            7           3   \n",
       "999998           3          11            1            8           1   \n",
       "999999           2           5            2            9           4   \n",
       "\n",
       "        third_rank  fourth_suit  fourth_rank  fifth_suit  fifth_rank  hand  \n",
       "0                4            2            3           1          12     0  \n",
       "1               11            4            5           2           5     1  \n",
       "2                4            3            2           3           9     1  \n",
       "3               13            2            1           3           6     1  \n",
       "4                2            2           11           4           9     0  \n",
       "...            ...          ...          ...         ...         ...   ...  \n",
       "999995           9            4            9           2           6     1  \n",
       "999996           7            1            4           4           3     1  \n",
       "999997           9            1           13           2           7     1  \n",
       "999998           1            3           13           2           8     1  \n",
       "999999           9            2            3           3           3     2  \n",
       "\n",
       "[1000000 rows x 11 columns]"
      ]
     },
     "execution_count": 6,
     "metadata": {},
     "output_type": "execute_result"
    }
   ],
   "source": [
    "test_data"
   ]
  },
  {
   "cell_type": "markdown",
   "id": "18e648f8",
   "metadata": {
    "papermill": {
     "duration": 0.004654,
     "end_time": "2025-01-13T19:48:41.410014",
     "exception": false,
     "start_time": "2025-01-13T19:48:41.405360",
     "status": "completed"
    },
    "tags": []
   },
   "source": [
    "## Data Preparation"
   ]
  },
  {
   "cell_type": "code",
   "execution_count": 7,
   "id": "37c9d055",
   "metadata": {
    "execution": {
     "iopub.execute_input": "2025-01-13T19:48:41.420944Z",
     "iopub.status.busy": "2025-01-13T19:48:41.420596Z",
     "iopub.status.idle": "2025-01-13T19:48:41.463694Z",
     "shell.execute_reply": "2025-01-13T19:48:41.462582Z"
    },
    "papermill": {
     "duration": 0.050733,
     "end_time": "2025-01-13T19:48:41.465634",
     "exception": false,
     "start_time": "2025-01-13T19:48:41.414901",
     "status": "completed"
    },
    "tags": []
   },
   "outputs": [],
   "source": [
    "# Apply the mapping to the target variable\n",
    "y_train = train_data['hand']\n",
    "y_test = test_data['hand']\n",
    "\n",
    "# Separate features\n",
    "X_train = train_data.drop('hand', axis=1)\n",
    "X_test = test_data.drop('hand', axis=1)"
   ]
  },
  {
   "cell_type": "code",
   "execution_count": 8,
   "id": "a71039bb",
   "metadata": {
    "execution": {
     "iopub.execute_input": "2025-01-13T19:48:41.476933Z",
     "iopub.status.busy": "2025-01-13T19:48:41.476592Z",
     "iopub.status.idle": "2025-01-13T19:48:41.480701Z",
     "shell.execute_reply": "2025-01-13T19:48:41.479615Z"
    },
    "papermill": {
     "duration": 0.011648,
     "end_time": "2025-01-13T19:48:41.482347",
     "exception": false,
     "start_time": "2025-01-13T19:48:41.470699",
     "status": "completed"
    },
    "tags": []
   },
   "outputs": [],
   "source": [
    "# Assuming 'X' (features) and 'y' (labels) are already defined\n",
    "def preprocess_data(X, y):\n",
    "    # Normalize features\n",
    "    scaler = StandardScaler()\n",
    "    X_scaled = scaler.fit_transform(X)\n",
    "\n",
    "    return X_scaled, y"
   ]
  },
  {
   "cell_type": "code",
   "execution_count": 9,
   "id": "92ab1231",
   "metadata": {
    "execution": {
     "iopub.execute_input": "2025-01-13T19:48:41.493713Z",
     "iopub.status.busy": "2025-01-13T19:48:41.493337Z",
     "iopub.status.idle": "2025-01-13T19:48:41.688596Z",
     "shell.execute_reply": "2025-01-13T19:48:41.687409Z"
    },
    "papermill": {
     "duration": 0.203274,
     "end_time": "2025-01-13T19:48:41.690689",
     "exception": false,
     "start_time": "2025-01-13T19:48:41.487415",
     "status": "completed"
    },
    "tags": []
   },
   "outputs": [],
   "source": [
    "# Preprocess the data\n",
    "X_train_preprocessed, y_train_preprocessed = preprocess_data(X_train, y_train)\n",
    "X_test_preprocessed, y_test_preprocessed = preprocess_data(X_test, y_test)"
   ]
  },
  {
   "cell_type": "code",
   "execution_count": 10,
   "id": "b52196e2",
   "metadata": {
    "execution": {
     "iopub.execute_input": "2025-01-13T19:48:41.702029Z",
     "iopub.status.busy": "2025-01-13T19:48:41.701674Z",
     "iopub.status.idle": "2025-01-13T19:48:41.708065Z",
     "shell.execute_reply": "2025-01-13T19:48:41.707050Z"
    },
    "papermill": {
     "duration": 0.014043,
     "end_time": "2025-01-13T19:48:41.709867",
     "exception": false,
     "start_time": "2025-01-13T19:48:41.695824",
     "status": "completed"
    },
    "tags": []
   },
   "outputs": [],
   "source": [
    "# Define a function to train and evaluate models\n",
    "def train_and_evaluate_model(model, param_grid=None):\n",
    "    if param_grid:\n",
    "        grid_search = GridSearchCV(model, param_grid, cv=3, scoring='accuracy', n_jobs=-1)\n",
    "        grid_search.fit(X_train_preprocessed, y_train_preprocessed)\n",
    "        model = grid_search.best_estimator_\n",
    "    else:\n",
    "        model.fit(X_train_preprocessed, y_train_preprocessed)\n",
    "\n",
    "    y_pred = model.predict(X_test_preprocessed)\n",
    "    accuracy = accuracy_score(y_test_preprocessed, y_pred)\n",
    "    print(f\"Test Accuracy for {model.__class__.__name__}: {accuracy:.4f}\")\n",
    "\n",
    "    # Calculate ROC Curve and AUC\n",
    "    y_pred_prob = model.predict_proba(X_test_preprocessed)\n",
    "    fpr, tpr, _ = roc_curve(y_test_preprocessed, y_pred_prob[:, 1], pos_label=1)\n",
    "    roc_auc = auc(fpr, tpr)\n",
    "\n",
    "    return accuracy, fpr, tpr, roc_auc"
   ]
  },
  {
   "cell_type": "markdown",
   "id": "28d6487a",
   "metadata": {
    "papermill": {
     "duration": 0.004661,
     "end_time": "2025-01-13T19:48:41.719681",
     "exception": false,
     "start_time": "2025-01-13T19:48:41.715020",
     "status": "completed"
    },
    "tags": []
   },
   "source": [
    "## Train Model"
   ]
  },
  {
   "cell_type": "code",
   "execution_count": 11,
   "id": "bf8a0ea3",
   "metadata": {
    "execution": {
     "iopub.execute_input": "2025-01-13T19:48:41.730441Z",
     "iopub.status.busy": "2025-01-13T19:48:41.730074Z",
     "iopub.status.idle": "2025-01-13T20:56:25.907024Z",
     "shell.execute_reply": "2025-01-13T20:56:25.905641Z"
    },
    "papermill": {
     "duration": 4064.184711,
     "end_time": "2025-01-13T20:56:25.909212",
     "exception": false,
     "start_time": "2025-01-13T19:48:41.724501",
     "status": "completed"
    },
    "tags": []
   },
   "outputs": [
    {
     "name": "stdout",
     "output_type": "stream",
     "text": [
      "Starting Model Training and Evaluation...\n",
      "\n",
      "Training MLP Classifier...\n",
      "Test Accuracy for MLPClassifier: 0.9924\n",
      "\n",
      "\n",
      "Training Random Forest Classifier...\n"
     ]
    },
    {
     "name": "stderr",
     "output_type": "stream",
     "text": [
      "/usr/local/lib/python3.10/dist-packages/joblib/externals/loky/process_executor.py:752: UserWarning: A worker stopped while some jobs were given to the executor. This can be caused by a too short worker timeout or by a memory leak.\n",
      "  warnings.warn(\n"
     ]
    },
    {
     "name": "stdout",
     "output_type": "stream",
     "text": [
      "Test Accuracy for RandomForestClassifier: 0.6190\n",
      "\n",
      "\n",
      "Training Gradient Boosting Classifier...\n",
      "Test Accuracy for GradientBoostingClassifier: 0.3204\n",
      "\n",
      "\n"
     ]
    }
   ],
   "source": [
    "print(\"Starting Model Training and Evaluation...\\n\")\n",
    "\n",
    "# MLP Classifier\n",
    "print(\"Training MLP Classifier...\")\n",
    "mlp_params = {\n",
    "    'hidden_layer_sizes': [(50,), (100,), (100, 50)],\n",
    "    'activation': ['relu','tanh'],\n",
    "    'solver': ['adam'],\n",
    "    'learning_rate': ['adaptive'],\n",
    "    'learning_rate_init': [0.0001, 0.001]\n",
    "}\n",
    "mlp_model = MLPClassifier(random_state=42, max_iter=2000)\n",
    "mlp_accuracy, mlp_fpr, mlp_tpr, mlp_roc_auc = train_and_evaluate_model(mlp_model, param_grid=mlp_params)\n",
    "print(\"\\n\")\n",
    "\n",
    "# Balance the dataset using SMOTE\n",
    "smote = SMOTE(random_state=42, k_neighbors=4)\n",
    "X_train_balanced, y_train_balanced = smote.fit_resample(X_train_preprocessed, y_train_preprocessed)\n",
    "\n",
    "# Random Forest Classifier\n",
    "print(\"Training Random Forest Classifier...\")\n",
    "rf_params = {\n",
    "    'n_estimators': [100, 200, 300],\n",
    "    'max_depth': [10, 20, 30],\n",
    "    'class_weight': ['balanced', None]\n",
    "}\n",
    "rf_model = RandomForestClassifier(random_state=42)\n",
    "rf_model.fit(X_train_balanced, y_train_balanced)\n",
    "rf_accuracy, rf_fpr, rf_tpr, rf_roc_auc = train_and_evaluate_model(RandomForestClassifier(random_state=42), param_grid=rf_params)\n",
    "print(\"\\n\")\n",
    "\n",
    "# Gradient Boosting Classifier\n",
    "print(\"Training Gradient Boosting Classifier...\")\n",
    "gb_params = {\n",
    "    'n_estimators': [100, 200, 300],\n",
    "    'learning_rate': [0.01, 0.1, 0.2],\n",
    "    'max_depth': [3, 5, 7]\n",
    "}\n",
    "gb_model = GradientBoostingClassifier(random_state=42)\n",
    "gb_accuracy, gb_fpr, gb_tpr, gb_roc_auc = train_and_evaluate_model(gb_model, param_grid=gb_params)\n",
    "print(\"\\n\")"
   ]
  },
  {
   "cell_type": "markdown",
   "id": "a0264704",
   "metadata": {
    "papermill": {
     "duration": 0.005349,
     "end_time": "2025-01-13T20:56:25.924205",
     "exception": false,
     "start_time": "2025-01-13T20:56:25.918856",
     "status": "completed"
    },
    "tags": []
   },
   "source": [
    "## Test Model"
   ]
  },
  {
   "cell_type": "code",
   "execution_count": 12,
   "id": "b2c182ff",
   "metadata": {
    "execution": {
     "iopub.execute_input": "2025-01-13T20:56:25.937575Z",
     "iopub.status.busy": "2025-01-13T20:56:25.937072Z",
     "iopub.status.idle": "2025-01-13T21:14:35.926398Z",
     "shell.execute_reply": "2025-01-13T21:14:35.925170Z"
    },
    "papermill": {
     "duration": 1089.997964,
     "end_time": "2025-01-13T21:14:35.928134",
     "exception": false,
     "start_time": "2025-01-13T20:56:25.930170",
     "status": "completed"
    },
    "tags": []
   },
   "outputs": [
    {
     "name": "stdout",
     "output_type": "stream",
     "text": [
      "Test Accuracy: 0.9382\n",
      "\n",
      "Classification Report:\n",
      "              precision    recall  f1-score   support\n",
      "\n",
      "           0       0.94      1.00      0.97    501209\n",
      "           1       0.96      0.93      0.95    422498\n",
      "           2       0.91      0.50      0.65     47622\n",
      "           3       0.64      0.90      0.75     21121\n",
      "           4       0.00      0.00      0.00      3885\n",
      "           5       0.95      0.67      0.79      1996\n",
      "           6       0.12      0.01      0.02      1424\n",
      "           7       0.03      0.00      0.01       230\n",
      "           8       0.00      0.00      0.00        12\n",
      "           9       0.00      0.00      0.00         3\n",
      "\n",
      "    accuracy                           0.94   1000000\n",
      "   macro avg       0.46      0.40      0.41   1000000\n",
      "weighted avg       0.94      0.94      0.93   1000000\n",
      "\n"
     ]
    }
   ],
   "source": [
    "base_models = [\n",
    "    ('mlp', MLPClassifier(hidden_layer_sizes=(100, 50), max_iter=2000, random_state=42)),\n",
    "    ('gb', GradientBoostingClassifier(n_estimators=100, random_state=42))\n",
    "]\n",
    "\n",
    "meta_model = RandomForestClassifier(random_state=42)\n",
    "\n",
    "stacking_model = StackingClassifier(estimators=base_models, final_estimator=meta_model, n_jobs=1)\n",
    "\n",
    "stacking_model.fit(X_train_preprocessed, y_train_preprocessed)\n",
    "\n",
    "stacking_pred = stacking_model.predict(X_test_preprocessed)\n",
    "stacking_accuracy = accuracy_score(y_test_preprocessed, stacking_pred)\n",
    "stacking_pred_prob = stacking_model.predict_proba(X_test_preprocessed)\n",
    "stacking_fpr, stacking_tpr, _ = roc_curve(y_test_preprocessed, stacking_pred_prob[:, 1], pos_label=1)\n",
    "stacking_roc_auc = auc(stacking_fpr, stacking_tpr)\n",
    "\n",
    "print(f\"Test Accuracy: {stacking_accuracy:.4f}\")\n",
    "print(f\"\\nClassification Report:\\n{classification_report(y_test_preprocessed, stacking_pred, zero_division=0)}\")"
   ]
  },
  {
   "cell_type": "markdown",
   "id": "d910a9bc",
   "metadata": {
    "papermill": {
     "duration": 0.005173,
     "end_time": "2025-01-13T21:14:35.939031",
     "exception": false,
     "start_time": "2025-01-13T21:14:35.933858",
     "status": "completed"
    },
    "tags": []
   },
   "source": [
    "## Visualizing Model Evaluation Metrics"
   ]
  },
  {
   "cell_type": "code",
   "execution_count": 13,
   "id": "f2447e57",
   "metadata": {
    "execution": {
     "iopub.execute_input": "2025-01-13T21:14:35.951260Z",
     "iopub.status.busy": "2025-01-13T21:14:35.950886Z",
     "iopub.status.idle": "2025-01-13T21:14:36.204541Z",
     "shell.execute_reply": "2025-01-13T21:14:36.203384Z"
    },
    "papermill": {
     "duration": 0.261747,
     "end_time": "2025-01-13T21:14:36.206351",
     "exception": false,
     "start_time": "2025-01-13T21:14:35.944604",
     "status": "completed"
    },
    "tags": []
   },
   "outputs": [
    {
     "data": {
      "image/png": "[encoded data removed]",
      "text/plain": [
       "<Figure size 1000x600 with 1 Axes>"
      ]
     },
     "metadata": {},
     "output_type": "display_data"
    }
   ],
   "source": [
    "# Plot Model vs Accuracy Bar Graph\n",
    "model_names = ['MLP Classifier', 'Random Forest', 'Gradient Boosting', 'Stacking Classifier']\n",
    "accuracies = [mlp_accuracy, rf_accuracy, gb_accuracy, stacking_accuracy]\n",
    "\n",
    "plt.figure(figsize=(10, 6))\n",
    "plt.bar(model_names, accuracies, color=['blue', 'green', 'orange', 'red'])\n",
    "plt.xlabel('Models')\n",
    "plt.ylabel('Accuracy')\n",
    "plt.title('Model vs Accuracy')\n",
    "plt.ylim(0, 1)\n",
    "plt.show()"
   ]
  },
  {
   "cell_type": "code",
   "execution_count": 14,
   "id": "931cd585",
   "metadata": {
    "execution": {
     "iopub.execute_input": "2025-01-13T21:14:36.220694Z",
     "iopub.status.busy": "2025-01-13T21:14:36.220229Z",
     "iopub.status.idle": "2025-01-13T21:14:36.539862Z",
     "shell.execute_reply": "2025-01-13T21:14:36.538744Z"
    },
    "papermill": {
     "duration": 0.329065,
     "end_time": "2025-01-13T21:14:36.541911",
     "exception": false,
     "start_time": "2025-01-13T21:14:36.212846",
     "status": "completed"
    },
    "tags": []
   },
   "outputs": [
    {
     "data": {
      "image/png": "[encoded data removed]",
      "text/plain": [
       "<Figure size 1000x800 with 1 Axes>"
      ]
     },
     "metadata": {},
     "output_type": "display_data"
    }
   ],
   "source": [
    "# Plot ROC Curve\n",
    "plt.figure(figsize=(10, 8))\n",
    "plt.plot(mlp_fpr, mlp_tpr, label=f\"MLP Classifier (AUC = {mlp_roc_auc:.2f})\", color='blue')\n",
    "plt.plot(rf_fpr, rf_tpr, label=f\"Random Forest (AUC = {rf_roc_auc:.2f})\", color='green')\n",
    "plt.plot(gb_fpr, gb_tpr, label=f\"Gradient Boosting (AUC = {gb_roc_auc:.2f})\", color='orange')\n",
    "plt.plot(stacking_fpr, stacking_tpr, label=f\"Stacking Classifier (AUC = {stacking_roc_auc:.2f})\", color='red')\n",
    "plt.plot([0, 1], [0, 1], 'k--', label='Random Chance')\n",
    "plt.xlabel('False Positive Rate')\n",
    "plt.ylabel('True Positive Rate')\n",
    "plt.title('ROC Curve')\n",
    "plt.legend(loc='lower right')\n",
    "plt.grid()\n",
    "plt.show()"
   ]
  },
  {
   "cell_type": "code",
   "execution_count": 15,
   "id": "52a0b908",
   "metadata": {
    "execution": {
     "iopub.execute_input": "2025-01-13T21:14:36.559625Z",
     "iopub.status.busy": "2025-01-13T21:14:36.559283Z",
     "iopub.status.idle": "2025-01-13T21:14:38.722935Z",
     "shell.execute_reply": "2025-01-13T21:14:38.721862Z"
    },
    "papermill": {
     "duration": 2.175169,
     "end_time": "2025-01-13T21:14:38.725003",
     "exception": false,
     "start_time": "2025-01-13T21:14:36.549834",
     "status": "completed"
    },
    "tags": []
   },
   "outputs": [
    {
     "data": {
      "image/png": "[encoded data removed]",
      "text/plain": [
       "<Figure size 1200x800 with 2 Axes>"
      ]
     },
     "metadata": {},
     "output_type": "display_data"
    }
   ],
   "source": [
    "# Classification Report Heatmap for Stacking Classifier\n",
    "classification_report_dict = classification_report(y_test_preprocessed, stacking_pred, target_names=[hand_mapping[i] for i in range(10)], output_dict=True, zero_division=0)\n",
    "\n",
    "# Convert the classification report to a DataFrame\n",
    "report_df = pd.DataFrame(classification_report_dict).transpose()\n",
    "\n",
    "# Plot the heatmap\n",
    "plt.figure(figsize=(12, 8))\n",
    "sns.heatmap(report_df.iloc[:-1, :-1], annot=True, cmap=\"Blues\", fmt=\".2f\")\n",
    "plt.title(\"Classification Report Heatmap for Stacking Classifier\")\n",
    "plt.ylabel(\"Classes\")\n",
    "plt.xlabel(\"Metrics\")\n",
    "plt.show()"
   ]
  }
 ],
 "metadata": {
  "kaggle": {
   "accelerator": "none",
   "dataSources": [
    {
     "datasetId": 6460589,
     "sourceId": 10423381,
     "sourceType": "datasetVersion"
    }
   ],
   "dockerImageVersionId": 30822,
   "isGpuEnabled": false,
   "isInternetEnabled": true,
   "language": "python",
   "sourceType": "notebook"
  },
  "kernelspec": {
   "display_name": "Python 3",
   "language": "python",
   "name": "python3"
  },
  "language_info": {
   "codemirror_mode": {
    "name": "ipython",
    "version": 3
   },
   "file_extension": ".py",
   "mimetype": "text/x-python",
   "name": "python",
   "nbconvert_exporter": "python",
   "pygments_lexer": "ipython3",
   "version": "3.10.12"
  },
  "papermill": {
   "default_parameters": {},
   "duration": 5164.274262,
   "end_time": "2025-01-13T21:14:39.562958",
   "environment_variables": {},
   "exception": null,
   "input_path": "__notebook__.ipynb",
   "output_path": "__notebook__.ipynb",
   "parameters": {},
   "start_time": "2025-01-13T19:48:35.288696",
   "version": "2.6.0"
  }
 },
 "nbformat": 4,
 "nbformat_minor": 5
}
